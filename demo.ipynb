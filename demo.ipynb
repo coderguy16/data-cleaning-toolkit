{
 "cells": [
  {
   "cell_type": "code",
   "execution_count": 4,
   "metadata": {},
   "outputs": [
    {
     "name": "stdout",
     "output_type": "stream",
     "text": [
      "Cleaned data saved to /home/jas0123/data-cleaning-toolkit/output/cleaned_gdp.csv\n"
     ]
    }
   ],
   "source": [
    "import pandas as pd\n",
    "import os\n",
    "from toolkit.clean_dates import melt_years_to_date, clean_year_column\n",
    "from toolkit.deduplicate import merge_country_duplicates\n",
    "from toolkit.standardize_text import fix_country_names, standardize_indicator_codes\n",
    "\n",
    "# Load messy data\n",
    "data_directory = os.path.join(os.getcwd(), 'data')\n",
    "\n",
    "gdp = pd.read_csv(\n",
    "    os.path.join(data_directory, \"gdp_time_series.csv\"),\n",
    "    skiprows=4,                  # Skip first 4 metadata rows\n",
    "    header=0,                    # Treat the 5th line as the header\n",
    "    na_values=[\"\"],              # Treat empty strings as NaN\n",
    "    thousands=\",\",               # Handle numbers like \"405,586,592\"\n",
    "    dtype={\"Country Code\": str}   # Preserve leading zeros in codes\n",
    ")\n",
    "\n",
    "\n",
    "# Drop unnamed columns\n",
    "gdp = gdp.drop(columns=[col for col in gdp.columns if \"Unnamed\" in col])\n",
    "\n",
    "\n",
    "metadata = pd.read_csv(os.path.join(data_directory, \"country_metadata.csv\"))\n",
    "\n",
    "indicators = pd.read_csv(os.path.join(data_directory, \"indicator_metadata.csv\"))\n",
    "\n",
    "# Clean Table 1: GDP Data\n",
    "gdp_long = melt_years_to_date(gdp)\n",
    "\n",
    "\n",
    "gdp_long = clean_year_column(gdp_long)\n",
    "\n",
    "# Clean Table 2: Country Metadata\n",
    "valid_countries = metadata[\"Country Code\"].unique()\n",
    "metadata = fix_country_names(metadata, valid_countries)\n",
    "\n",
    "# Merge & Deduplicate\n",
    "merged = merge_country_duplicates(gdp_long, metadata)\n",
    "\n",
    "# Clean Table 3: Indicators\n",
    "indicators = standardize_indicator_codes(indicators)\n",
    "\n",
    "# Save cleaned data\n",
    "os.makedirs(\"output\", exist_ok=True)\n",
    "output_path = os.path.join(os.getcwd(), \"output\", \"cleaned_gdp.csv\")\n",
    "merged.to_csv(output_path, index=False)\n",
    "print(f\"Cleaned data saved to {output_path}\")\n"
   ]
  }
 ],
 "metadata": {
  "kernelspec": {
   "display_name": "venv",
   "language": "python",
   "name": "python3"
  },
  "language_info": {
   "codemirror_mode": {
    "name": "ipython",
    "version": 3
   },
   "file_extension": ".py",
   "mimetype": "text/x-python",
   "name": "python",
   "nbconvert_exporter": "python",
   "pygments_lexer": "ipython3",
   "version": "3.9.4"
  }
 },
 "nbformat": 4,
 "nbformat_minor": 2
}
